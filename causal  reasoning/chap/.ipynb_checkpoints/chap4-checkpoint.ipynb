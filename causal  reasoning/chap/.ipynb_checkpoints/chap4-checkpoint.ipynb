{
 "cells": [
  {
   "cell_type": "code",
   "execution_count": 11,
   "metadata": {},
   "outputs": [],
   "source": [
    "import numpy as np\n",
    "import random\n",
    "\n",
    "# データ数\n",
    "num_data = 200\n",
    "\n",
    "# 年齡\n",
    "x_1 = np.random.randint(15, 76, num_data) # 15歳から76歳の一様乱数\n",
    "# 性別（0を女性、1を男性）\n",
    "x_2 = np.random.randint(0, 2, num_data) # 0か1の乱数"
   ]
  },
  {
   "cell_type": "code",
   "execution_count": 12,
   "metadata": {},
   "outputs": [
    {
     "name": "stdout",
     "output_type": "stream",
     "text": [
      "[67 44 27 58 63 48 61 43 70 53 56 27 72 32 28 58 52 55 72 40 72 19 60 53\n",
      " 59 49 49 25 41 44 26 19 62 53 41 49 61 35 25 52 43 48 71 36 41 69 21 28\n",
      " 44 44 53 32 50 15 48 21 37 57 66 29 44 17 36 35 49 55 65 43 50 75 37 49\n",
      " 37 57 55 33 51 63 58 50 65 43 39 40 21 46 16 64 69 53 30 44 67 38 35 61\n",
      " 17 17 72 73 61 60 70 75 43 34 26 24 45 63 50 20 73 20 27 15 24 70 68 37\n",
      " 51 45 24 65 43 16 42 53 68 42 50 59 60 62 44 57 42 22 65 18 37 51 55 52\n",
      " 18 33 72 69 68 15 50 23 68 69 67 43 20 35 62 37 66 32 19 16 16 21 42 62\n",
      " 24 26 16 27 72 22 50 31 31 19 69 50 21 57 63 22 46 23 71 34 57 56 61 19\n",
      " 69 55 28 69 39 73 70 27]\n",
      "[1 1 1 1 0 0 1 0 1 0 1 1 1 0 1 0 0 1 0 1 0 1 1 0 1 0 1 1 1 1 1 1 0 1 1 1 0\n",
      " 1 1 0 0 0 1 1 1 1 1 1 0 1 1 1 1 0 1 0 0 1 0 1 0 0 1 1 0 0 0 0 1 1 1 1 1 1\n",
      " 1 1 1 1 0 1 0 0 0 0 1 0 1 0 0 1 1 1 0 1 1 1 1 0 1 1 1 1 0 0 1 0 1 0 0 1 0\n",
      " 0 0 0 1 0 1 0 0 0 0 1 1 0 1 1 0 0 0 0 1 1 1 1 1 1 1 0 0 0 0 0 1 1 0 1 0 1\n",
      " 0 1 0 0 1 0 0 1 1 0 0 0 0 1 0 0 1 1 0 1 1 0 0 0 1 1 1 1 1 1 0 0 0 0 1 1 1\n",
      " 1 0 0 0 1 0 1 1 1 1 0 0 0 0 0]\n"
     ]
    }
   ],
   "source": [
    "print(x_1)\n",
    "print(x_2)"
   ]
  },
  {
   "cell_type": "code",
   "execution_count": 19,
   "metadata": {},
   "outputs": [
    {
     "ename": "NameError",
     "evalue": "name 'randn' is not defined",
     "output_type": "error",
     "traceback": [
      "\u001b[0;31m---------------------------------------------------------------------------\u001b[0m",
      "\u001b[0;31mNameError\u001b[0m                                 Traceback (most recent call last)",
      "\u001b[0;32m<ipython-input-19-2c19e530bbf0>\u001b[0m in \u001b[0;36m<module>\u001b[0;34m\u001b[0m\n\u001b[1;32m      2\u001b[0m \u001b[0;34m\u001b[0m\u001b[0m\n\u001b[1;32m      3\u001b[0m \u001b[0;31m# ノイズの生成\u001b[0m\u001b[0;34m\u001b[0m\u001b[0;34m\u001b[0m\u001b[0;34m\u001b[0m\u001b[0m\n\u001b[0;32m----> 4\u001b[0;31m \u001b[0me_z\u001b[0m \u001b[0;34m=\u001b[0m \u001b[0mrandn\u001b[0m\u001b[0;34m(\u001b[0m\u001b[0mnum_data\u001b[0m\u001b[0;34m)\u001b[0m\u001b[0;34m\u001b[0m\u001b[0;34m\u001b[0m\u001b[0m\n\u001b[0m\u001b[1;32m      5\u001b[0m \u001b[0;34m\u001b[0m\u001b[0m\n\u001b[1;32m      6\u001b[0m \u001b[0;31m# シグモイド関数に入れる部分\u001b[0m\u001b[0;34m\u001b[0m\u001b[0;34m\u001b[0m\u001b[0;34m\u001b[0m\u001b[0m\n",
      "\u001b[0;31mNameError\u001b[0m: name 'randn' is not defined"
     ]
    }
   ],
   "source": [
    "import sklearn\n",
    "\n",
    "# ノイズの生成\n",
    "e_z = randn(num_data)\n",
    "\n",
    "# シグモイド関数に入れる部分\n",
    "z_base =  x_1 + (1-x_2)*10 - 40 + 5*e_z\n",
    "\n",
    "# シグモイド関数を計算\n",
    "z_prob = expit(0.1*z_base)\n",
    "\n",
    "# テレビCMを見たかどうかの変数（0は見ていない、1は見た）\n",
    "Z = nap.array([])\n",
    "\n",
    "for i in range(num_data):\n",
    "    Z_i = np.random.choice(2, size=1, p=[1-z_prob[i], z_prob[i]])[0]\n",
    "    Z = np.append(Z, Z_i)"
   ]
  },
  {
   "cell_type": "code",
   "execution_count": 17,
   "metadata": {},
   "outputs": [
    {
     "name": "stdout",
     "output_type": "stream",
     "text": [
      "0.23.2\n"
     ]
    }
   ],
   "source": [
    "import sklearn\n",
    "\n",
    "print(sklearn.__version__) # 0.17.1"
   ]
  },
  {
   "cell_type": "code",
   "execution_count": null,
   "metadata": {},
   "outputs": [],
   "source": []
  }
 ],
 "metadata": {
  "kernelspec": {
   "display_name": "Python 3",
   "language": "python",
   "name": "python3"
  },
  "language_info": {
   "codemirror_mode": {
    "name": "ipython",
    "version": 3
   },
   "file_extension": ".py",
   "mimetype": "text/x-python",
   "name": "python",
   "nbconvert_exporter": "python",
   "pygments_lexer": "ipython3",
   "version": "3.8.5"
  }
 },
 "nbformat": 4,
 "nbformat_minor": 4
}
